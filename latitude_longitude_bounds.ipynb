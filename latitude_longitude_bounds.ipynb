{
  "nbformat": 4,
  "nbformat_minor": 0,
  "metadata": {
    "colab": {
      "name": "latitude-longitude_bounds.ipynb",
      "provenance": [],
      "collapsed_sections": []
    },
    "kernelspec": {
      "name": "python3",
      "display_name": "Python 3"
    }
  },
  "cells": [
    {
      "cell_type": "markdown",
      "metadata": {
        "id": "6027R5T2Lfxe",
        "colab_type": "text"
      },
      "source": [
        "References and links : I referred this paper : [Reference](http://janmatuschek.de/LatitudeLongitudeBoundingCoordinates#Longitude)<br>\n",
        "Few links on stack overflow :\n",
        "1.  [Fast haversine approximation](https://stackoverflow.com/questions/29545704/fast-haversine-approximation-python-pandas)\n",
        "2.  [Algo to find latitudes and logitudes in certain distance](https://stackoverflow.com/questions/5031268/algorithm-to-find-all-latitude-longitude-locations-within-a-certain-distance-fro)\n",
        "\n"
      ]
    },
    {
      "cell_type": "code",
      "metadata": {
        "id": "HcIZ-uDdBnPB",
        "colab_type": "code",
        "colab": {}
      },
      "source": [
        "import pandas as pd\n",
        "import math\n",
        "import numpy as np"
      ],
      "execution_count": 34,
      "outputs": []
    },
    {
      "cell_type": "code",
      "metadata": {
        "id": "zKiiwcD7B5lt",
        "colab_type": "code",
        "colab": {}
      },
      "source": [
        "info=pd.read_csv(\"/content/20251_20326.csv\")"
      ],
      "execution_count": 35,
      "outputs": []
    },
    {
      "cell_type": "code",
      "metadata": {
        "id": "waNgTSJHCAg-",
        "colab_type": "code",
        "colab": {
          "base_uri": "https://localhost:8080/",
          "height": 204
        },
        "outputId": "1d9004b0-5385-444e-84ed-92939f910cfc"
      },
      "source": [
        "info.head()"
      ],
      "execution_count": 36,
      "outputs": [
        {
          "output_type": "execute_result",
          "data": {
            "text/html": [
              "<div>\n",
              "<style scoped>\n",
              "    .dataframe tbody tr th:only-of-type {\n",
              "        vertical-align: middle;\n",
              "    }\n",
              "\n",
              "    .dataframe tbody tr th {\n",
              "        vertical-align: top;\n",
              "    }\n",
              "\n",
              "    .dataframe thead th {\n",
              "        text-align: right;\n",
              "    }\n",
              "</style>\n",
              "<table border=\"1\" class=\"dataframe\">\n",
              "  <thead>\n",
              "    <tr style=\"text-align: right;\">\n",
              "      <th></th>\n",
              "      <th>frame_no</th>\n",
              "      <th>track_id</th>\n",
              "      <th>type</th>\n",
              "      <th>travelled_d</th>\n",
              "      <th>avg_speed</th>\n",
              "      <th>lat</th>\n",
              "      <th>lon</th>\n",
              "      <th>speed</th>\n",
              "      <th>lon_acc</th>\n",
              "      <th>lat_acc</th>\n",
              "      <th>time</th>\n",
              "    </tr>\n",
              "  </thead>\n",
              "  <tbody>\n",
              "    <tr>\n",
              "      <th>0</th>\n",
              "      <td>20251</td>\n",
              "      <td>77</td>\n",
              "      <td>Motorcycle</td>\n",
              "      <td>146.76</td>\n",
              "      <td>0.649857</td>\n",
              "      <td>37.990523</td>\n",
              "      <td>23.730853</td>\n",
              "      <td>0.0</td>\n",
              "      <td>0.0</td>\n",
              "      <td>0.0</td>\n",
              "      <td>810.0</td>\n",
              "    </tr>\n",
              "    <tr>\n",
              "      <th>1</th>\n",
              "      <td>20251</td>\n",
              "      <td>86</td>\n",
              "      <td>Car</td>\n",
              "      <td>279.73</td>\n",
              "      <td>1.238669</td>\n",
              "      <td>37.991250</td>\n",
              "      <td>23.732969</td>\n",
              "      <td>0.0</td>\n",
              "      <td>0.0</td>\n",
              "      <td>0.0</td>\n",
              "      <td>810.0</td>\n",
              "    </tr>\n",
              "    <tr>\n",
              "      <th>2</th>\n",
              "      <td>20251</td>\n",
              "      <td>188</td>\n",
              "      <td>Car</td>\n",
              "      <td>29.57</td>\n",
              "      <td>0.130948</td>\n",
              "      <td>37.990633</td>\n",
              "      <td>23.731788</td>\n",
              "      <td>0.0</td>\n",
              "      <td>0.0</td>\n",
              "      <td>0.0</td>\n",
              "      <td>810.0</td>\n",
              "    </tr>\n",
              "    <tr>\n",
              "      <th>3</th>\n",
              "      <td>20251</td>\n",
              "      <td>210</td>\n",
              "      <td>Car</td>\n",
              "      <td>252.98</td>\n",
              "      <td>1.120197</td>\n",
              "      <td>37.990544</td>\n",
              "      <td>23.732868</td>\n",
              "      <td>0.0</td>\n",
              "      <td>0.0</td>\n",
              "      <td>0.0</td>\n",
              "      <td>810.0</td>\n",
              "    </tr>\n",
              "    <tr>\n",
              "      <th>4</th>\n",
              "      <td>20251</td>\n",
              "      <td>253</td>\n",
              "      <td>Taxi</td>\n",
              "      <td>68.18</td>\n",
              "      <td>0.301898</td>\n",
              "      <td>37.991344</td>\n",
              "      <td>23.733162</td>\n",
              "      <td>0.0</td>\n",
              "      <td>0.0</td>\n",
              "      <td>0.0</td>\n",
              "      <td>810.0</td>\n",
              "    </tr>\n",
              "  </tbody>\n",
              "</table>\n",
              "</div>"
            ],
            "text/plain": [
              "   frame_no  track_id         type  travelled_d  ...  speed  lon_acc  lat_acc   time\n",
              "0     20251        77   Motorcycle       146.76  ...    0.0      0.0      0.0  810.0\n",
              "1     20251        86          Car       279.73  ...    0.0      0.0      0.0  810.0\n",
              "2     20251       188          Car        29.57  ...    0.0      0.0      0.0  810.0\n",
              "3     20251       210          Car       252.98  ...    0.0      0.0      0.0  810.0\n",
              "4     20251       253         Taxi        68.18  ...    0.0      0.0      0.0  810.0\n",
              "\n",
              "[5 rows x 11 columns]"
            ]
          },
          "metadata": {
            "tags": []
          },
          "execution_count": 36
        }
      ]
    },
    {
      "cell_type": "code",
      "metadata": {
        "id": "m7xvkv2Zp9HH",
        "colab_type": "code",
        "colab": {
          "base_uri": "https://localhost:8080/",
          "height": 306
        },
        "outputId": "dd1efcb2-1e9e-4136-db96-c7c6951ae2d8"
      },
      "source": [
        "#info.info()\n",
        "df=pd.DataFrame(info)\n",
        "df.track_id.unique()"
      ],
      "execution_count": 37,
      "outputs": [
        {
          "output_type": "execute_result",
          "data": {
            "text/plain": [
              "array([  77,   86,  188,  210,  253,  265,  460,  467,  470,  581,  609,\n",
              "        614,  622,  639,  640,  661,  690,  825,  826,  944, 1058, 1069,\n",
              "       1109, 1169, 1245, 1296, 1418, 1428, 1453, 1478, 1482, 1535, 1553,\n",
              "       1580, 1623, 1637, 1644, 1684, 1686, 1730, 1731, 1733, 1735, 1752,\n",
              "       1753, 1754, 1784, 1789, 1815, 1817, 1821, 1829, 1847, 1850, 1855,\n",
              "       1859, 1864, 1870, 1871, 1874, 1876, 1878, 1886, 1887, 1888, 1895,\n",
              "       1900, 1905, 1908, 1914, 1916, 1922, 1924, 1925, 1926, 1927, 1935,\n",
              "       1939, 1942, 1943, 1945, 1946, 1947, 1948, 1950, 1953, 1958, 1959,\n",
              "       1961, 1963, 1967, 1970, 1971, 1976, 1979, 1985, 1987, 1991, 1996,\n",
              "       2002, 2005, 2013, 2015, 2017, 2020, 2036, 2041, 2046, 2049, 2052,\n",
              "       2054, 2055, 2056, 2057, 2061, 2063, 2064, 2067, 2068, 2069, 2072,\n",
              "       2074, 2075, 2078, 2080, 2081, 2085, 2086, 2090, 2092, 2093, 2095,\n",
              "       2096, 2097, 2098, 2101, 2102, 2104, 2105, 2108, 2110, 2111, 2112,\n",
              "       2115, 2118, 2119, 2122, 2128, 2129, 2130, 2133, 2135, 2139, 2140,\n",
              "       2142, 2143, 2144, 2145, 2147, 2148, 2149, 2150, 2151, 2153, 2155,\n",
              "       2157, 2159, 2162, 2163, 2164, 2168, 2176, 2181, 2195, 2197, 2211,\n",
              "       2213, 2220, 2228, 2234, 2235, 2240, 2256, 2257, 2272, 2279])"
            ]
          },
          "metadata": {
            "tags": []
          },
          "execution_count": 37
        }
      ]
    },
    {
      "cell_type": "code",
      "metadata": {
        "id": "mY956VOQ8aes",
        "colab_type": "code",
        "colab": {}
      },
      "source": [
        "# Segment for global variables\n",
        "MIN_LAT = math.radians(-90)\n",
        "MAX_LAT = math.radians(90)\n",
        "MIN_LON = math.radians(-180)\n",
        "MAX_LON = math.radians(180)\n",
        "\n",
        "EARTH_RADIUS = 6378137     # In meters, as per wikipedia\n"
      ],
      "execution_count": 39,
      "outputs": []
    },
    {
      "cell_type": "code",
      "metadata": {
        "id": "Gi6R8UsNpq9t",
        "colab_type": "code",
        "colab": {}
      },
      "source": [
        "# Function to convert degrees to radians\n",
        "def to_radians(lat_deg,lon_deg):\n",
        "  lat_rad = math.radians(lat_deg)\n",
        "  lon_rad = math.radians(lon_deg)\n",
        "  return lat_rad,lon_rad"
      ],
      "execution_count": 40,
      "outputs": []
    },
    {
      "cell_type": "code",
      "metadata": {
        "id": "v5UcTRD01WR0",
        "colab_type": "code",
        "colab": {}
      },
      "source": [
        "# Function that checks bounds of latitudes and longitudes\n",
        "def check_bounds(lat,lon):\n",
        "  if lat < MIN_LAT or lat > MAX_LAT or lon < MIN_LON or lon > MAX_LON :\n",
        "    return false\n",
        "  else:\n",
        "    return true\n"
      ],
      "execution_count": 41,
      "outputs": []
    },
    {
      "cell_type": "markdown",
      "metadata": {
        "id": "URwCCka0N2IB",
        "colab_type": "text"
      },
      "source": [
        "Finding greater distance using Haversine formula"
      ]
    },
    {
      "cell_type": "code",
      "metadata": {
        "id": "9G3ODn5P9ng0",
        "colab_type": "code",
        "colab": {}
      },
      "source": [
        "# Function that calculates greater circle distance i.e., distance along the surface of earth\n",
        "def greatCircleDistance(lat1,lon1,lat2,lon2):\n",
        "  return radius * math.acos(math.sin(lat1) * math.sin(lat2)) + math.cos(lat1) * math.cos(lat2) * math.cos(lon1-lon2)\n"
      ],
      "execution_count": 42,
      "outputs": []
    },
    {
      "cell_type": "code",
      "metadata": {
        "id": "iq3yxWJW-fOn",
        "colab_type": "code",
        "colab": {}
      },
      "source": [
        "# Function that gives latitude and longitude boundaries\n",
        "def give_bounds(lat,lon,distance,radius=EARTH_RADIUS):\n",
        "  rad_dist = distance/radius   #  radial distance\n",
        "  min_lat = lat - rad_dist\n",
        "  max_lat = lat + rad_dist\n",
        "\n",
        "  if min_lat > MIN_LAT and max_lat < MAX_LAT:\n",
        "    delta_lon = math.asin(math.sin(rad_dist)/math.cos(lat))\n",
        "\n",
        "    min_lon = lon - delta_lon\n",
        "    if min_lon < MIN_LON:\n",
        "      min_lon += 2 * math.pi\n",
        "    \n",
        "    max_lon = lon + delta_lon\n",
        "    if max_lon > MAX_LON:\n",
        "      max_lon -= 2 * math.pi\n",
        "  \n",
        "  else :  # There is pole in between\n",
        "    min_lat = max(min_lat,MIN_LAT)\n",
        "    max_lat = min(max_lat,MAX_LAT)\n",
        "    min_lon = MIN_LON\n",
        "    max_lon = MAX_LON\n",
        "\n",
        "  return min_lat,min_lon,max_lat,max_lon"
      ],
      "execution_count": 43,
      "outputs": []
    },
    {
      "cell_type": "code",
      "metadata": {
        "id": "mD1l34XtB68Q",
        "colab_type": "code",
        "colab": {
          "base_uri": "https://localhost:8080/",
          "height": 85
        },
        "outputId": "56517793-1024-435f-d09a-a61beb1fe6b8"
      },
      "source": [
        "lat,lon =to_radians(26.062951, -80.238853)\n",
        "give_bounds(lat,lon,10)"
      ],
      "execution_count": 44,
      "outputs": [
        {
          "output_type": "execute_result",
          "data": {
            "text/plain": [
              "(0.45488273988000577,\n",
              " -1.4004339182096255,\n",
              " 0.4548858755918916,\n",
              " -1.4004304275378339)"
            ]
          },
          "metadata": {
            "tags": []
          },
          "execution_count": 44
        }
      ]
    },
    {
      "cell_type": "code",
      "metadata": {
        "id": "6ccK_NZ-NmaZ",
        "colab_type": "code",
        "colab": {}
      },
      "source": [
        ""
      ],
      "execution_count": 44,
      "outputs": []
    }
  ]
}